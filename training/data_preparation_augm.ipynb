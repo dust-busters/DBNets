{
 "cells": [
  {
   "cell_type": "markdown",
   "id": "6a11df6f",
   "metadata": {},
   "source": [
    "# Data preparation\n",
    "\n",
    "The aim of this notebook is to read the grid of simulations and prepare files ready to be used by the training code. This should avoid the computation time which was spent at the beginning of each training reading and deprojecting the simulation results. \n",
    "Furthermore, in this way we separate the preprocessing of the data from the training code allowing to reuse the latter more easily.\n"
   ]
  },
  {
   "cell_type": "markdown",
   "id": "381f3ae7",
   "metadata": {},
   "source": [
    "## 1. Load the parameters file"
   ]
  },
  {
   "cell_type": "code",
   "execution_count": 1,
   "id": "410ad38d",
   "metadata": {},
   "outputs": [],
   "source": [
    "import pandas as pd\n",
    "import radiative_transfer as rt\n",
    "para = pd.read_csv('../../data/datarun4/param_sampling/run4_complete.csv', index_col=0)\n",
    "#para = pd.read_csv('params.csv', index_col=0)"
   ]
  },
  {
   "cell_type": "markdown",
   "id": "92efd2a6",
   "metadata": {},
   "source": [
    "## 2. Select the time of the desired dumps"
   ]
  },
  {
   "cell_type": "code",
   "execution_count": 2,
   "id": "4664c316",
   "metadata": {},
   "outputs": [],
   "source": [
    "orbits_time = 1500\n",
    "label_time = int(orbits_time/50)"
   ]
  },
  {
   "cell_type": "markdown",
   "id": "9ce0f2d5",
   "metadata": {},
   "source": [
    "## 3. Load all the images projecting to cartesian coordinates and remove missing lines from the parameters' table"
   ]
  },
  {
   "cell_type": "code",
   "execution_count": 3,
   "id": "deeb5143",
   "metadata": {},
   "outputs": [],
   "source": [
    "import oofargo\n",
    "import numpy as np\n",
    "from tqdm import tqdm \n",
    "import os\n",
    "data_path = '../../data/datarun4/downf/'\n"
   ]
  },
  {
   "cell_type": "code",
   "execution_count": 4,
   "id": "402bad6b",
   "metadata": {},
   "outputs": [],
   "source": [
    "def load_data():\n",
    "    return np.array([[i, \n",
    "                  oofargo.open_img(\n",
    "                      f'{data_path}out_{i:05}/dust1dens{label_time}.dat',\n",
    "                      ntheta = para.loc[i, 'nx'].astype(int),\n",
    "                      nr = para.loc[i, 'ny'].astype(int),\n",
    "                      image_rmax = para.loc[i, 'rout'],\n",
    "                      ylog = True\n",
    "                  )]\n",
    "                for i in tqdm(para.index.tolist())\n",
    "                 if os.path.exists(f'{data_path}out_{i:05}/dust1dens30.dat')\n",
    "                ])\n",
    "    \n",
    "def load_data_rt():\n",
    "    return np.array([[i, \n",
    "                  rt.radiative_transfer(\n",
    "                      f'{data_path}out_{i:05}/dust1dens{label_time}.dat',\n",
    "                      para, \n",
    "                      i\n",
    "                  )]\n",
    "                for i in tqdm(para.index.tolist())\n",
    "                 if os.path.exists(f'{data_path}out_{i:05}/dust1dens{label_time}.dat')\n",
    "                ])"
   ]
  },
  {
   "cell_type": "code",
   "execution_count": 5,
   "id": "05bb0f77",
   "metadata": {},
   "outputs": [
    {
     "name": "stderr",
     "output_type": "stream",
     "text": [
      "100%|███████████████████████████████████████| 1000/1000 [00:41<00:00, 24.37it/s]\n",
      "/tmp/ipykernel_9301/241254320.py:15: VisibleDeprecationWarning: Creating an ndarray from ragged nested sequences (which is a list-or-tuple of lists-or-tuples-or ndarrays with different lengths or shapes) is deprecated. If you meant to do this, you must specify 'dtype=object' when creating the ndarray.\n",
      "  return np.array([[i,\n"
     ]
    }
   ],
   "source": [
    "data = load_data_rt()"
   ]
  },
  {
   "cell_type": "markdown",
   "id": "5914b199",
   "metadata": {},
   "source": [
    "## 5. Remove images without a visible gap"
   ]
  },
  {
   "cell_type": "code",
   "execution_count": 6,
   "id": "86756a22",
   "metadata": {},
   "outputs": [],
   "source": [
    "import cv2\n",
    "\n",
    "# return the maximum value for the log derivative between 0.6-2.4\n",
    "def getmaxlogder(image, nx, ny, rmin, rmax, deproject=False):\n",
    "    if isinstance(image, str):\n",
    "        rho = oofargo.open_img(image, nr=ny, ntheta=nx, image_rmin=rmin, image_rmax=rmax, ylog=True)\n",
    "    elif deproject:\n",
    "        rho = cv2.warpPolar(image, (ny,nx), (64,64), 64, cv2.WARP_FILL_OUTLIERS )\n",
    "    else:\n",
    "        rho = image\n",
    "    prof = np.log10(rho.mean(axis=0))\n",
    "    y = np.log10(np.linspace(rmin, rmax, ny))\n",
    "    \n",
    "    der = (prof[1:]-prof[:-1])/(y[1:]-y[:-1])\n",
    "    \n",
    "    #remove part of the profile\n",
    "    der_r = der[int((0.6-rmin)*ny/(rmax-rmin)):int((2.4-rmin)*ny/(rmax-rmin))]\n",
    "    maxder = der_r.max()\n",
    "    minder = der_r.min()\n",
    "    \n",
    "    return maxder"
   ]
  },
  {
   "cell_type": "code",
   "execution_count": 7,
   "id": "fce2f7ac",
   "metadata": {},
   "outputs": [
    {
     "name": "stderr",
     "output_type": "stream",
     "text": [
      "/tmp/ipykernel_9301/2371887917.py:11: RuntimeWarning: divide by zero encountered in log10\n",
      "  prof = np.log10(rho.mean(axis=0))\n",
      "/tmp/ipykernel_9301/2371887917.py:14: RuntimeWarning: invalid value encountered in subtract\n",
      "  der = (prof[1:]-prof[:-1])/(y[1:]-y[:-1])\n"
     ]
    }
   ],
   "source": [
    "# removing objects without gaps: the selection is done on the data at time 1500\n",
    "from scipy.ndimage import gaussian_filter\n",
    "if orbits_time == 1500:\n",
    "    para_n = para.loc[data[:,0]]\n",
    "    for i, img in data:\n",
    "        para_n.loc[i, f'maxder{orbits_time}'] = getmaxlogder(gaussian_filter(img, 2).transpose(), \n",
    "                                           para_n.loc[i, 'nx'].astype(int),\n",
    "                                           para_n.loc[i, 'ny'].astype(int),\n",
    "                                           0.4, para_n.loc[i, 'rout'], deproject=False)\n",
    "    selected = para_n[para_n[f'maxder{orbits_time}']>0].sort_values(f'maxder{orbits_time}')\n",
    "    para_n.to_csv('params.csv')\n",
    "    selected.to_csv('selected.csv')\n",
    "else:\n",
    "    selected = pd.read_csv('selected.csv', index_col=0)"
   ]
  },
  {
   "cell_type": "code",
   "execution_count": 8,
   "id": "e2c185d8",
   "metadata": {},
   "outputs": [],
   "source": [
    "inputs = np.array([np.array([i, img], dtype=object) for i, img in data if i in selected.index.tolist()], dtype=object)"
   ]
  },
  {
   "cell_type": "code",
   "execution_count": 13,
   "id": "c72706c8",
   "metadata": {},
   "outputs": [],
   "source": [
    "#setting plots for mnras\n",
    "import matplotlib.pyplot as plt\n",
    "import matplotlib\n",
    "SMALL_SIZE=9\n",
    "MEDIUM_SIZE=9\n",
    "BIGGER_SIZE=9\n",
    "\n",
    "plt.rc('font', size=SMALL_SIZE)          # controls default text sizes\n",
    "plt.rc('axes', titlesize=SMALL_SIZE)     # fontsize of the axes title\n",
    "plt.rc('axes', labelsize=SMALL_SIZE)    # fontsize of the x and y labels\n",
    "plt.rc('xtick', labelsize=SMALL_SIZE)    # fontsize of the tick labels\n",
    "plt.rc('ytick', labelsize=SMALL_SIZE)    # fontsize of the tick labels\n",
    "plt.rc('legend', fontsize=SMALL_SIZE)    # legend fontsize\n",
    "plt.rc('figure', titlesize=BIGGER_SIZE)\n",
    "matplotlib.rcParams['mathtext.fontset'] = 'stix'\n",
    "matplotlib.rcParams['mathtext.rm'] = 'STIXGeneral'\n",
    "matplotlib.rcParams['mathtext.it'] = 'STIXGeneral'\n",
    "matplotlib.rcParams['mathtext.bf'] = 'STIXGeneral'\n",
    "\n",
    "import matplotlib.font_manager\n",
    "matplotlib.font_manager.findSystemFonts(fontpaths=None, fontext='ttf')\n",
    "plt.rc('font', family=' Nimbus Roman')"
   ]
  },
  {
   "cell_type": "code",
   "execution_count": 14,
   "id": "b48c9831",
   "metadata": {},
   "outputs": [
    {
     "data": {
      "image/png": "[encoded data removed]",
      "text/plain": [
       "<Figure size 240x144 with 1 Axes>"
      ]
     },
     "metadata": {
      "needs_background": "light"
     },
     "output_type": "display_data"
    }
   ],
   "source": [
    "import matplotlib\n",
    "\n",
    "plt.hist(para.loc[data[:,0],'PlanetMass']*10**3, histtype='step', hatch='/////', bins=np.logspace(-2,1,30), label='All')\n",
    "plt.hist(selected['PlanetMass']*10**3,histtype='step', hatch=\"\\\\\\\\\\\\\\\\\", bins=np.logspace(-2,1,30), label='With substructures')\n",
    "plt.title('Planet Mass distribution \\n of simulations with substructures')\n",
    "plt.legend(loc='lower right')\n",
    "plt.xscale('log')\n",
    "plt.xlabel('M$_p/$M$_J$ $\\cdot$ M$_\\odot$/M$_\\star$')\n",
    "plt.ylabel('n')\n",
    "plt.gcf().set_size_inches(10/3, 2)\n",
    "plt.savefig('massdist.pdf', bbox_inches='tight')"
   ]
  },
  {
   "cell_type": "markdown",
   "id": "2b067321",
   "metadata": {},
   "source": [
    "## Augmentation "
   ]
  },
  {
   "cell_type": "code",
   "execution_count": 11,
   "id": "bfddfa12",
   "metadata": {},
   "outputs": [],
   "source": [
    "# function used to extrapolate the density outside of the outer radius\n",
    "def augment(image, nx, ny, rmin, rmax, rtarget, slope):\n",
    "    \n",
    "    #create new grid of r\n",
    "    r = np.arange(rmin, rtarget, (rmax-rmin)/ny)\n",
    "    new_ny = len(r)\n",
    "    \n",
    "    #extrapolate profile\n",
    "    if new_ny < ny:\n",
    "        return image[:new_ny, :], new_ny\n",
    "    else:\n",
    "        padded_im = np.pad(image, ((0, new_ny-ny),(0,0)),'constant', constant_values=(0,))\n",
    "        rgrid = np.ones((new_ny, nx))*r.reshape(-1,1)\n",
    "        prof = image[-1, :]*(rgrid/rmax)**(-slope)*(np.arange(0,new_ny,1)>ny-1).astype(int).reshape(-1,1)\n",
    "        return prof+padded_im, new_ny"
   ]
  },
  {
   "cell_type": "code",
   "execution_count": 12,
   "id": "3085a1cd",
   "metadata": {},
   "outputs": [],
   "source": [
    "from scipy.ndimage import gaussian_filter\n",
    "# function used to augment and warp the images\n",
    "# Note: warp must be done before of the downsampling in order to avoid artefacts\n",
    "def augment_and_warp(image, rtarg, nx, ny, rmin, rmax, slope, smooth=3):\n",
    "    im_data, new_ny = augment(image, nx, ny, rmin, rmax, rtarg, slope)\n",
    "    \n",
    "    img =  oofargo.warp_image_rolltodisk(im_data, nx, new_ny, image_rmax = rtarg, target_rmax=4, target_image_size=(1280,1280))\n",
    "    normalized = (img-img.mean())/(img.std())\n",
    "    #norm_noisy = np.array(GaussianNoise(0.1*normalized.max())(normalized, True))\n",
    "    img = gaussian_filter(cv2.resize(normalized, (128,128), interpolation=cv2.INTER_AREA), 2)   \n",
    "    #imglog = img.copy()*(img>0.01).astype(int) + (img<=0.01).astype(int)*0.01\n",
    "    #imglog = (np.log10(imglog)+2)/2\n",
    "    return img"
   ]
  },
  {
   "cell_type": "code",
   "execution_count": 13,
   "id": "b5b987e4",
   "metadata": {},
   "outputs": [
    {
     "data": {
      "text/html": [
       "<div>\n",
       "<style scoped>\n",
       "    .dataframe tbody tr th:only-of-type {\n",
       "        vertical-align: middle;\n",
       "    }\n",
       "\n",
       "    .dataframe tbody tr th {\n",
       "        vertical-align: top;\n",
       "    }\n",
       "\n",
       "    .dataframe thead th {\n",
       "        text-align: right;\n",
       "    }\n",
       "</style>\n",
       "<table border=\"1\" class=\"dataframe\">\n",
       "  <thead>\n",
       "    <tr style=\"text-align: right;\">\n",
       "      <th></th>\n",
       "      <th>InvStokes1</th>\n",
       "      <th>Alpha</th>\n",
       "      <th>AspectRatio</th>\n",
       "      <th>FlaringIndex</th>\n",
       "      <th>PlanetMass</th>\n",
       "      <th>SigmaSlope</th>\n",
       "      <th>nx</th>\n",
       "      <th>rout</th>\n",
       "      <th>ny</th>\n",
       "      <th>maxder1500</th>\n",
       "    </tr>\n",
       "  </thead>\n",
       "  <tbody>\n",
       "    <tr>\n",
       "      <th>627</th>\n",
       "      <td>881.048873</td>\n",
       "      <td>0.001435</td>\n",
       "      <td>0.093595</td>\n",
       "      <td>0.299775</td>\n",
       "      <td>0.000296</td>\n",
       "      <td>1.09955</td>\n",
       "      <td>600.0</td>\n",
       "      <td>3</td>\n",
       "      <td>193.0</td>\n",
       "      <td>0.006546</td>\n",
       "    </tr>\n",
       "    <tr>\n",
       "      <th>309</th>\n",
       "      <td>126.765187</td>\n",
       "      <td>0.000114</td>\n",
       "      <td>0.054115</td>\n",
       "      <td>0.054425</td>\n",
       "      <td>0.000013</td>\n",
       "      <td>0.60885</td>\n",
       "      <td>600.0</td>\n",
       "      <td>3</td>\n",
       "      <td>193.0</td>\n",
       "      <td>0.026093</td>\n",
       "    </tr>\n",
       "    <tr>\n",
       "      <th>761</th>\n",
       "      <td>26.001596</td>\n",
       "      <td>0.002223</td>\n",
       "      <td>0.099265</td>\n",
       "      <td>0.104475</td>\n",
       "      <td>0.000278</td>\n",
       "      <td>0.70895</td>\n",
       "      <td>600.0</td>\n",
       "      <td>3</td>\n",
       "      <td>193.0</td>\n",
       "      <td>0.030646</td>\n",
       "    </tr>\n",
       "    <tr>\n",
       "      <th>601</th>\n",
       "      <td>89.742879</td>\n",
       "      <td>0.000104</td>\n",
       "      <td>0.097375</td>\n",
       "      <td>0.091525</td>\n",
       "      <td>0.000087</td>\n",
       "      <td>0.68305</td>\n",
       "      <td>600.0</td>\n",
       "      <td>3</td>\n",
       "      <td>193.0</td>\n",
       "      <td>0.041852</td>\n",
       "    </tr>\n",
       "    <tr>\n",
       "      <th>223</th>\n",
       "      <td>43.551187</td>\n",
       "      <td>0.000452</td>\n",
       "      <td>0.076655</td>\n",
       "      <td>0.032375</td>\n",
       "      <td>0.000063</td>\n",
       "      <td>0.56475</td>\n",
       "      <td>600.0</td>\n",
       "      <td>3</td>\n",
       "      <td>193.0</td>\n",
       "      <td>0.108617</td>\n",
       "    </tr>\n",
       "    <tr>\n",
       "      <th>...</th>\n",
       "      <td>...</td>\n",
       "      <td>...</td>\n",
       "      <td>...</td>\n",
       "      <td>...</td>\n",
       "      <td>...</td>\n",
       "      <td>...</td>\n",
       "      <td>...</td>\n",
       "      <td>...</td>\n",
       "      <td>...</td>\n",
       "      <td>...</td>\n",
       "    </tr>\n",
       "    <tr>\n",
       "      <th>343</th>\n",
       "      <td>11.297959</td>\n",
       "      <td>0.000122</td>\n",
       "      <td>0.092895</td>\n",
       "      <td>0.175525</td>\n",
       "      <td>0.000427</td>\n",
       "      <td>0.85105</td>\n",
       "      <td>600.0</td>\n",
       "      <td>3</td>\n",
       "      <td>193.0</td>\n",
       "      <td>319.310724</td>\n",
       "    </tr>\n",
       "    <tr>\n",
       "      <th>762</th>\n",
       "      <td>10.115795</td>\n",
       "      <td>0.000299</td>\n",
       "      <td>0.035285</td>\n",
       "      <td>0.305725</td>\n",
       "      <td>0.000795</td>\n",
       "      <td>1.11145</td>\n",
       "      <td>890.0</td>\n",
       "      <td>3</td>\n",
       "      <td>286.0</td>\n",
       "      <td>325.825071</td>\n",
       "    </tr>\n",
       "    <tr>\n",
       "      <th>400</th>\n",
       "      <td>11.040786</td>\n",
       "      <td>0.000146</td>\n",
       "      <td>0.031435</td>\n",
       "      <td>0.023975</td>\n",
       "      <td>0.000028</td>\n",
       "      <td>0.54795</td>\n",
       "      <td>999.0</td>\n",
       "      <td>3</td>\n",
       "      <td>321.0</td>\n",
       "      <td>332.931263</td>\n",
       "    </tr>\n",
       "    <tr>\n",
       "      <th>320</th>\n",
       "      <td>13.396767</td>\n",
       "      <td>0.000259</td>\n",
       "      <td>0.036685</td>\n",
       "      <td>0.138075</td>\n",
       "      <td>0.000894</td>\n",
       "      <td>0.77615</td>\n",
       "      <td>856.0</td>\n",
       "      <td>3</td>\n",
       "      <td>276.0</td>\n",
       "      <td>335.583967</td>\n",
       "    </tr>\n",
       "    <tr>\n",
       "      <th>583</th>\n",
       "      <td>19.275249</td>\n",
       "      <td>0.000438</td>\n",
       "      <td>0.047465</td>\n",
       "      <td>0.018375</td>\n",
       "      <td>0.000413</td>\n",
       "      <td>0.53675</td>\n",
       "      <td>662.0</td>\n",
       "      <td>3</td>\n",
       "      <td>213.0</td>\n",
       "      <td>444.557974</td>\n",
       "    </tr>\n",
       "  </tbody>\n",
       "</table>\n",
       "<p>717 rows × 10 columns</p>\n",
       "</div>"
      ],
      "text/plain": [
       "     InvStokes1     Alpha  AspectRatio  FlaringIndex  PlanetMass  SigmaSlope  \\\n",
       "627  881.048873  0.001435     0.093595      0.299775    0.000296     1.09955   \n",
       "309  126.765187  0.000114     0.054115      0.054425    0.000013     0.60885   \n",
       "761   26.001596  0.002223     0.099265      0.104475    0.000278     0.70895   \n",
       "601   89.742879  0.000104     0.097375      0.091525    0.000087     0.68305   \n",
       "223   43.551187  0.000452     0.076655      0.032375    0.000063     0.56475   \n",
       "..          ...       ...          ...           ...         ...         ...   \n",
       "343   11.297959  0.000122     0.092895      0.175525    0.000427     0.85105   \n",
       "762   10.115795  0.000299     0.035285      0.305725    0.000795     1.11145   \n",
       "400   11.040786  0.000146     0.031435      0.023975    0.000028     0.54795   \n",
       "320   13.396767  0.000259     0.036685      0.138075    0.000894     0.77615   \n",
       "583   19.275249  0.000438     0.047465      0.018375    0.000413     0.53675   \n",
       "\n",
       "        nx  rout     ny  maxder1500  \n",
       "627  600.0     3  193.0    0.006546  \n",
       "309  600.0     3  193.0    0.026093  \n",
       "761  600.0     3  193.0    0.030646  \n",
       "601  600.0     3  193.0    0.041852  \n",
       "223  600.0     3  193.0    0.108617  \n",
       "..     ...   ...    ...         ...  \n",
       "343  600.0     3  193.0  319.310724  \n",
       "762  890.0     3  286.0  325.825071  \n",
       "400  999.0     3  321.0  332.931263  \n",
       "320  856.0     3  276.0  335.583967  \n",
       "583  662.0     3  213.0  444.557974  \n",
       "\n",
       "[717 rows x 10 columns]"
      ]
     },
     "execution_count": 13,
     "metadata": {},
     "output_type": "execute_result"
    }
   ],
   "source": [
    "selected"
   ]
  },
  {
   "cell_type": "code",
   "execution_count": 14,
   "id": "454d0e4d",
   "metadata": {},
   "outputs": [
    {
     "name": "stderr",
     "output_type": "stream",
     "text": [
      "100%|█████████████████████████████████████████| 573/573 [00:13<00:00, 43.88it/s]\n",
      "100%|█████████████████████████████████████████| 573/573 [00:14<00:00, 39.28it/s]\n",
      "100%|█████████████████████████████████████████| 573/573 [00:14<00:00, 38.42it/s]\n",
      "100%|█████████████████████████████████████████| 144/144 [00:03<00:00, 40.17it/s]\n",
      "100%|█████████████████████████████████████████| 573/573 [00:13<00:00, 42.76it/s]\n",
      "100%|█████████████████████████████████████████| 573/573 [00:14<00:00, 38.64it/s]\n",
      "100%|█████████████████████████████████████████| 573/573 [00:14<00:00, 38.46it/s]\n",
      "100%|█████████████████████████████████████████| 144/144 [00:03<00:00, 40.06it/s]\n",
      "100%|█████████████████████████████████████████| 574/574 [00:13<00:00, 41.70it/s]\n",
      "100%|█████████████████████████████████████████| 574/574 [00:14<00:00, 38.69it/s]\n",
      "100%|█████████████████████████████████████████| 574/574 [00:16<00:00, 35.32it/s]\n",
      "100%|█████████████████████████████████████████| 143/143 [00:03<00:00, 37.68it/s]\n",
      "100%|█████████████████████████████████████████| 574/574 [00:13<00:00, 42.84it/s]\n",
      "100%|█████████████████████████████████████████| 574/574 [00:15<00:00, 36.22it/s]\n",
      "100%|█████████████████████████████████████████| 574/574 [00:15<00:00, 37.54it/s]\n",
      "100%|█████████████████████████████████████████| 143/143 [00:03<00:00, 39.08it/s]\n",
      "100%|█████████████████████████████████████████| 574/574 [00:13<00:00, 41.54it/s]\n",
      "100%|█████████████████████████████████████████| 574/574 [00:16<00:00, 34.82it/s]\n",
      "100%|█████████████████████████████████████████| 574/574 [00:15<00:00, 36.87it/s]\n",
      "100%|█████████████████████████████████████████| 143/143 [00:03<00:00, 38.42it/s]\n"
     ]
    }
   ],
   "source": [
    "# split in 5 folds\n",
    "from sklearn.model_selection import KFold\n",
    "\n",
    "num_folds = 5\n",
    "kfold = KFold(n_splits=num_folds, shuffle=True, random_state=74)\n",
    "\n",
    "splitted_data = {}\n",
    "fold = 1\n",
    "for train, test in kfold.split(inputs):\n",
    "    for r_i in range(3):\n",
    "        \n",
    "        inputs_tr = np.array([\n",
    "            augment_and_warp(img, \n",
    "                            rtarg = np.random.uniform(2.5+r_i*0.5, 3+r_i*0.5),\n",
    "                            nx = selected.loc[i, 'nx'].astype(int),\n",
    "                            ny = selected.loc[i, 'ny'].astype(int),\n",
    "                            rmin = 0.4,\n",
    "                            rmax = selected.loc[i, 'rout'],\n",
    "                            slope = selected.loc[i, 'SigmaSlope']\n",
    "                            ) for i, img in tqdm(inputs[train])])\n",
    "        if r_i == 0:\n",
    "            inputs_aug = inputs_tr\n",
    "        else:\n",
    "            inputs_aug = np.concatenate([inputs_aug, inputs_tr], axis=0)\n",
    "        \n",
    "    inputs_te = np.array([\n",
    "            augment_and_warp(img, \n",
    "                            rtarg = np.random.uniform(2.5,4),\n",
    "                            nx = selected.loc[i, 'nx'].astype(int),\n",
    "                            ny = selected.loc[i, 'ny'].astype(int),\n",
    "                            rmin = 0.4,\n",
    "                            rmax = selected.loc[i, 'rout'],\n",
    "                            slope = selected.loc[i, 'SigmaSlope']\n",
    "                            ) for i, img in tqdm(inputs[test])])\n",
    "    splitted_data[f'inp_train{fold}'] = inputs_aug\n",
    "    splitted_data[f'inp_test{fold}'] = inputs_te\n",
    "    splitted_data[f'targ_train{fold}'] = np.tile(np.log10(selected.loc[inputs[train, 0], 'PlanetMass'].tolist())+3, 3)\n",
    "    splitted_data[f'targ_test{fold}'] = np.log10(selected.loc[inputs[test, 0], 'PlanetMass'].tolist())+3\n",
    "    fold+=1"
   ]
  },
  {
   "cell_type": "markdown",
   "id": "573f1963",
   "metadata": {},
   "source": [
    "## 6. Save files\n",
    "In an appropriate folder inside `training_data` there will be these files:"
   ]
  },
  {
   "cell_type": "code",
   "execution_count": 15,
   "id": "07239d89",
   "metadata": {},
   "outputs": [],
   "source": [
    "import os\n",
    "folder = f'training_data/final{orbits_time}/'\n",
    "os.mkdir(folder)\n",
    "np.save(f'{folder}/data', splitted_data)"
   ]
  }
 ],
 "metadata": {
  "kernelspec": {
   "display_name": "Python 3 (ipykernel)",
   "language": "python",
   "name": "python3"
  },
  "language_info": {
   "codemirror_mode": {
    "name": "ipython",
    "version": 3
   },
   "file_extension": ".py",
   "mimetype": "text/x-python",
   "name": "python",
   "nbconvert_exporter": "python",
   "pygments_lexer": "ipython3",
   "version": "3.10.6"
  }
 },
 "nbformat": 4,
 "nbformat_minor": 5
}
